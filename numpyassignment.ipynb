{
 "cells": [
  {
   "cell_type": "code",
   "execution_count": 1,
   "metadata": {},
   "outputs": [],
   "source": [
    "import pandas as pd\n",
    "import numpy as np"
   ]
  },
  {
   "cell_type": "code",
   "execution_count": 49,
   "metadata": {},
   "outputs": [
    {
     "name": "stdout",
     "output_type": "stream",
     "text": [
      "Original Array: \n",
      " [[3 3 5 2]\n",
      " [4 2 3 5]\n",
      " [4 5 3 5]\n",
      " [2 2 5 3]]\n",
      "--------------------\n",
      "After:\n",
      " [[  1   3  25   8]\n",
      " [  1   2   9 125]\n",
      " [  1   5   9 125]\n",
      " [  1   2  25  27]]\n"
     ]
    }
   ],
   "source": [
    "#Question no 1\n",
    "\n",
    "from numpy.random import randint as ri\n",
    "a = ri(2,6,16).reshape(4,-1)\n",
    "\n",
    "print(\"Original Array: \\n\",a)\n",
    "\n",
    "print(\"-\"*20)\n",
    "\n",
    "add_rows=np.array(range(0,a.shape[0]))\n",
    "\n",
    "print(\"After:\\n\",a ** add_rows) #ROW BROADCASTING"
   ]
  },
  {
   "cell_type": "code",
   "execution_count": 66,
   "metadata": {},
   "outputs": [
    {
     "name": "stdout",
     "output_type": "stream",
     "text": [
      "[3.75, 3.5, 4.25, 5.0, 7.25, 21.5, 37.0, 54.5, 63.0, 70.0, 87.25]\n"
     ]
    }
   ],
   "source": [
    "# Question no 2\n",
    "l1 = [3, 5, 7, 2, 8, 10, 11, 65, 72, 81, 99, 100, 150]\n",
    "k = 3\n",
    "n=len(l1)\n",
    "res=[]\n",
    "sum\n",
    "for i in range(0,n-k+1):\n",
    "    sum = 0\n",
    "    for j in range(0,k):\n",
    "        sum = sum + l1[i+j]\n",
    "    res.append(sum/4)\n",
    "print(res)"
   ]
  },
  {
   "cell_type": "code",
   "execution_count": null,
   "metadata": {},
   "outputs": [],
   "source": []
  }
 ],
 "metadata": {
  "kernelspec": {
   "display_name": "Python 3",
   "language": "python",
   "name": "python3"
  },
  "language_info": {
   "codemirror_mode": {
    "name": "ipython",
    "version": 3
   },
   "file_extension": ".py",
   "mimetype": "text/x-python",
   "name": "python",
   "nbconvert_exporter": "python",
   "pygments_lexer": "ipython3",
   "version": "3.7.4"
  }
 },
 "nbformat": 4,
 "nbformat_minor": 2
}
