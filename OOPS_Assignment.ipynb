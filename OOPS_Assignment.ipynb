{
 "cells": [
  {
   "cell_type": "code",
   "execution_count": 16,
   "metadata": {},
   "outputs": [
    {
     "name": "stdout",
     "output_type": "stream",
     "text": [
      "In Class A\n",
      "In Class B\n"
     ]
    }
   ],
   "source": [
    "class A:\n",
    "    def test(self):\n",
    "        print(\"In Class A\")\n",
    "    def __str__(self):\n",
    "        return \"Class A\"\n",
    "class B:\n",
    "    def test(self):\n",
    "        print(\"In Class B\")\n",
    "    def __str__(self):\n",
    "        return \"Class B\"\n",
    "        \n",
    "class C (A,B):\n",
    "    pass\n",
    "\n",
    "\n",
    "A.test(t1)\n",
    "B.test(t1)"
   ]
  },
  {
   "cell_type": "code",
   "execution_count": null,
   "metadata": {},
   "outputs": [],
   "source": []
  }
 ],
 "metadata": {
  "kernelspec": {
   "display_name": "Python 3",
   "language": "python",
   "name": "python3"
  },
  "language_info": {
   "codemirror_mode": {
    "name": "ipython",
    "version": 3
   },
   "file_extension": ".py",
   "mimetype": "text/x-python",
   "name": "python",
   "nbconvert_exporter": "python",
   "pygments_lexer": "ipython3",
   "version": "3.7.4"
  }
 },
 "nbformat": 4,
 "nbformat_minor": 2
}
