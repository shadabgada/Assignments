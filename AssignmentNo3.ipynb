{
 "cells": [
  {
   "cell_type": "markdown",
   "metadata": {},
   "source": [
    "# Task 1"
   ]
  },
  {
   "cell_type": "code",
   "execution_count": 57,
   "metadata": {},
   "outputs": [
    {
     "name": "stdout",
     "output_type": "stream",
     "text": [
      "In try\n",
      "division by zero\n",
      "In finally\n"
     ]
    }
   ],
   "source": [
    "#1\n",
    "#Write a function to compute 5/0 and use try/except to catch the exceptions. \n",
    "\n",
    "def compute():\n",
    "    try:\n",
    "        print(\"In try\")\n",
    "        a = 5/0\n",
    "        print(\"a :\",a)\n",
    "    except Exception as e:\n",
    "        print(e)\n",
    "    else:\n",
    "        print(\"No exception\")\n",
    "    finally:\n",
    "        print(\"In finally\")\n",
    "        \n",
    "compute()"
   ]
  },
  {
   "cell_type": "code",
   "execution_count": 55,
   "metadata": {
    "scrolled": true
   },
   "outputs": [
    {
     "name": "stdout",
     "output_type": "stream",
     "text": [
      "Americans  play Baseball\n",
      "Americans  play Cricket\n",
      "Americans  watch Baseball\n",
      "Americans  watch Cricket\n",
      "Indians play Baseball\n",
      "Indians play Cricket\n",
      "Indians watch Baseball\n",
      "Indians watch Cricket\n"
     ]
    }
   ],
   "source": [
    "#2. \n",
    "#Implement a Python program to generate all sentences \n",
    "#where subject is in [\"Americans\", \"Indians\"] and verb is in [\"Play\", \"watch\"] and the object is in [\"Baseball\",\"cricket\"]. \n",
    "\n",
    "subjects = [\"Americans \",\"Indians\"]\n",
    "verbs = [\"play\",\"watch\"] \n",
    "objects = [\"Baseball\",\"Cricket\"] \n",
    "for sub in subjects:\n",
    "    for verb in verbs:\n",
    "        for obj in objects:\n",
    "            print(sub + \" \" + verb + \" \" + obj)"
   ]
  },
  {
   "cell_type": "markdown",
   "metadata": {},
   "source": [
    "# Task 2"
   ]
  },
  {
   "cell_type": "code",
   "execution_count": 13,
   "metadata": {},
   "outputs": [
    {
     "name": "stdout",
     "output_type": "stream",
     "text": [
      "1 1 1 1 \n",
      "\n",
      "1 2 4 8 \n",
      "\n",
      "1 3 9 27 \n",
      "\n",
      "1 4 16 64 \n",
      "\n"
     ]
    }
   ],
   "source": [
    "\n",
    "def getMatrix(inp):\n",
    "    \n",
    "    \n",
    "    res = [ [n**i for i in range(len(inp)) ] for n in inp]\n",
    "    \n",
    "    return res\n",
    "    \n",
    "\n",
    "result_Matrix = getMatrix([1,2,3,4]) \n",
    "\n",
    "for i in result_Matrix:\n",
    "    for j in i:\n",
    "        print(j,end = \" \")\n",
    "    print(\"\\n\")\n"
   ]
  },
  {
   "cell_type": "code",
   "execution_count": null,
   "metadata": {},
   "outputs": [],
   "source": []
  }
 ],
 "metadata": {
  "kernelspec": {
   "display_name": "Python 3",
   "language": "python",
   "name": "python3"
  }
 },
 "nbformat": 4,
 "nbformat_minor": 2
}
