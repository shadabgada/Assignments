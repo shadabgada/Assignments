{
 "cells": [
  {
   "cell_type": "markdown",
   "metadata": {},
   "source": [
    "# Task 1"
   ]
  },
  {
   "cell_type": "code",
   "execution_count": 23,
   "metadata": {},
   "outputs": [
    {
     "name": "stdout",
     "output_type": "stream",
     "text": [
      "13\n"
     ]
    }
   ],
   "source": [
    "#1.1  \n",
    "#Write a Python Program to implement your own myreduce() function which works exactly like Python's built-in function reduce()\n",
    "\n",
    "def myreduce ( func, inp):\n",
    "    if(type(inp)!=list):\n",
    "         inp = list(inp)\n",
    "    \n",
    "    res = inp[0]\n",
    "    inp.pop(0)\n",
    "    for i in inp:\n",
    "        res = func(res, i)\n",
    "    \n",
    "    return res;\n",
    "\n",
    "def add(x, y):\n",
    "    return x+y;\n",
    "\n",
    "def multiple (x, y):\n",
    "    return x*y\n",
    "\n",
    "result = myreduce (add,[2,3,4,4])\n",
    "#result = myreduce (add, range(0,4))\n",
    "\n",
    "print(result)"
   ]
  },
  {
   "cell_type": "code",
   "execution_count": 27,
   "metadata": {},
   "outputs": [
    {
     "name": "stdout",
     "output_type": "stream",
     "text": [
      "[2, 4, 6]\n"
     ]
    }
   ],
   "source": [
    "#1.2  \n",
    "#Write a Python program to implement your own myfilter() function which works exactly like Python's built-in function filter()\n",
    "\n",
    "def myfilter(func , inp):\n",
    "    if(type(inp)==list):\n",
    "        inp = list(inp)\n",
    "    res = []\n",
    "    for i in inp:\n",
    "        if(func(i)):\n",
    "            res.append(i)\n",
    "    return res\n",
    "\n",
    "def evenCheck(i):\n",
    "    if(i%2==0):\n",
    "        return True\n",
    "    else:\n",
    "        return False\n",
    "\n",
    "result = myfilter(evenCheck, [2,3,4,5,6,7])\n",
    "print(result)"
   ]
  },
  {
   "cell_type": "code",
   "execution_count": 129,
   "metadata": {},
   "outputs": [
    {
     "name": "stdout",
     "output_type": "stream",
     "text": [
      "['A', 'C', 'A', 'D', 'G', 'I', 'L', 'D']\n",
      "[['x', 'xx', 'xxx', 'xxxx'], ['y', 'yy', 'yyy', 'yyyy'], ['z', 'zz', 'zzz', 'zzzz']]\n",
      "[['x', 'y', 'z'], ['xx', 'yy', 'zz'], ['xxx', 'yyy', 'zzz'], ['xxxx', 'yyyy', 'zzzz']]\n",
      "[[2, 3, 4], [3, 4, 5], [4, 5, 6]]\n",
      "[[2, 3, 4, 5], [3, 4, 5, 6], [4, 5, 6, 7], [5, 6, 7, 8]]\n",
      "[[(1, 1), (2, 1), (3, 1)], [(1, 2), (2, 2), (3, 2)], [(1, 3), (2, 3), (3, 3)]]\n"
     ]
    }
   ],
   "source": [
    "#2.  \n",
    "#Implement List comprehensions to produce the following lists\n",
    "\n",
    "#['A', 'C', 'A', 'D', 'G', 'I', ’L’, ‘ D’] \n",
    "print([i for i in 'ACADGILD'])\n",
    "\n",
    "#['x', 'xx', 'xxx', 'xxxx', 'y', 'yy', 'yyy', 'yyyy', 'z', 'zz', 'zzz', 'zzzz'] \n",
    "res = [ [ i*j for i in range(1,5) ] for j in 'xyz' ]\n",
    "print(res)\n",
    "\n",
    "#['x', 'y', 'z', 'xx', 'yy', 'zz', 'xx', 'yy', 'zz', 'xxxx', 'yyyy', 'zzzz'] \n",
    "res = [ [ j*i for j in 'xyz' ] for i in range(1,5) ]\n",
    "print(res)\n",
    "\n",
    "#[[2], [3], [4], [3], [4], [5], [4], [5], [6]] \n",
    "res = [ [ j for j in range(j,j+3) ] for j in [2,3,4] ]\n",
    "print(res)\n",
    "\n",
    "#[[2, 3, 4, 5], [3, 4, 5, 6], [4, 5, 6, 7], [5, 6, 7, 8]] \n",
    "res = [ [ j for j in range(j,j+4) ] for j in [2,3,4,5] ]\n",
    "print(res)\n",
    "\n",
    "#[(1, 1), (2, 1), (3, 1), (1, 2), (2, 2), (3, 2), (1, 3), (2, 3), (3, 3)] \n",
    "res = [ [ (j,i) for j in range(1,4) ] for i in range(1,4) ]\n",
    "print(res)"
   ]
  },
  {
   "cell_type": "code",
   "execution_count": 32,
   "metadata": {},
   "outputs": [
    {
     "name": "stdout",
     "output_type": "stream",
     "text": [
      "watermelon\n"
     ]
    }
   ],
   "source": [
    "#3.  \n",
    "#Implement a function longestWord() that takes a list of words and returns the longest one. \n",
    "def longestWord(words):\n",
    "    max = words[0]\n",
    "    for i in words:\n",
    "        if(len(i)> len(max)):\n",
    "            max = i\n",
    "    return max\n",
    "\n",
    "\n",
    "print(longestWord(['apple','pineapple','mango','orange','watermelon','lemon']))"
   ]
  },
  {
   "cell_type": "markdown",
   "metadata": {},
   "source": [
    "# Task 2"
   ]
  },
  {
   "cell_type": "code",
   "execution_count": 52,
   "metadata": {},
   "outputs": [
    {
     "name": "stdout",
     "output_type": "stream",
     "text": [
      "6.0\n"
     ]
    }
   ],
   "source": [
    "#1.1  \n",
    "#Write a Python Program(with class concepts) to find the area of the triangle using the below formula.  \n",
    "#area = (s*(s-a)*(s-b)*(s-c)) ** 0.5 \n",
    "##Function to take the length of the sides of triangle from user should be defined in the parent class and \n",
    "#function to calculate the area should be defined in subclass. \n",
    "\n",
    "class Triangle:\n",
    "    def __init__(self, a, b, c):\n",
    "        self.a = a\n",
    "        self.b = b\n",
    "        self.c = c\n",
    "        self.s = (self.a + self.b + self.c )/2\n",
    "class calcArea(Triangle):\n",
    "    def __init__(self,*args):\n",
    "        super().__init__( *args )\n",
    "        self.area = (self.s*(self.s-self.a)*(self.s-self.b)*(self.s-self.c)) ** 0.5\n",
    "\n",
    "test = calcArea(3,4,5)\n",
    "print(test.area)"
   ]
  },
  {
   "cell_type": "code",
   "execution_count": 55,
   "metadata": {},
   "outputs": [
    {
     "name": "stdout",
     "output_type": "stream",
     "text": [
      "['computer', 'laptop', 'truck', 'train']\n"
     ]
    }
   ],
   "source": [
    "#1.2 \n",
    "#Write a function filter_long_words() that takes a list of words and \n",
    "#an integer n and returns the list of words that are longer than n.\n",
    "\n",
    "\n",
    "def filter_long_words(words,n):\n",
    "    res = []\n",
    "    for i in words:\n",
    "        if(len(i)>n):\n",
    "            res.append(i)\n",
    "    return res\n",
    "\n",
    "print(filter_long_words(['abc','computer','laptop','xyz','test','demo','bike','car','truck','train'],4))"
   ]
  },
  {
   "cell_type": "code",
   "execution_count": 59,
   "metadata": {},
   "outputs": [
    {
     "name": "stdout",
     "output_type": "stream",
     "text": [
      "[3, 8, 6, 3, 4, 4, 4, 3, 5, 5]\n"
     ]
    }
   ],
   "source": [
    "#2.1\n",
    "#Write a Python program using function concept that maps  list of words into a list of integers \n",
    "#representing the lengths of the corresponding words​. \n",
    "\n",
    "def length_of_words(words):\n",
    "    res = []\n",
    "    for i in words:\n",
    "        res.append(len(i))\n",
    "    return res\n",
    "\n",
    "print(length_of_words(['abc','computer','laptop','xyz','test','demo','bike','car','truck','train']))"
   ]
  },
  {
   "cell_type": "code",
   "execution_count": 65,
   "metadata": {},
   "outputs": [
    {
     "name": "stdout",
     "output_type": "stream",
     "text": [
      "True\n"
     ]
    }
   ],
   "source": [
    "#2.2 \n",
    "#Write a Python function which takes a character (i.e. a string of length 1) and returns True if it is a vowel, False otherwise. \n",
    "\n",
    "\n",
    "def checkVowel(a):\n",
    "    vowels = ['a','e','i','o','u']\n",
    "    \n",
    "    if(vowels.count(a)==0):\n",
    "        return False\n",
    "    else:\n",
    "        return True\n",
    "    \n",
    "print(checkVowel('a'))"
   ]
  },
  {
   "cell_type": "code",
   "execution_count": null,
   "metadata": {},
   "outputs": [],
   "source": []
  }
 ],
 "metadata": {
  "kernelspec": {
   "display_name": "Python 3",
   "language": "python",
   "name": "python3"
  },
  "language_info": {
   "codemirror_mode": {
    "name": "ipython",
    "version": 3
   },
   "file_extension": ".py",
   "mimetype": "text/x-python",
   "name": "python",
   "nbconvert_exporter": "python",
   "pygments_lexer": "ipython3",
   "version": "3.7.4"
  }
 },
 "nbformat": 4,
 "nbformat_minor": 2
}
