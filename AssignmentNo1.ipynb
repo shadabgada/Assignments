{
 "cells": [
  {
   "cell_type": "code",
   "execution_count": 5,
   "metadata": {},
   "outputs": [
    {
     "data": {
      "text/plain": [
       "[3, 5, 2]"
      ]
     },
     "execution_count": 5,
     "metadata": {},
     "output_type": "execute_result"
    }
   ],
   "source": [
    "#Task 1\n",
    "#1\n",
    "#Install Jupyter notebook and run the first program and share the screenshot of the output.\n",
    "list1=[3,5,2]\n",
    "list1"
   ]
  },
  {
   "cell_type": "code",
   "execution_count": null,
   "metadata": {},
   "outputs": [],
   "source": [
    "#2\n",
    "for x in range(2000,3201):\n",
    "    if(x%7==0) and (x%5!=0):\n",
    "        print(x)"
   ]
  },
  {
   "cell_type": "code",
   "execution_count": 3,
   "metadata": {},
   "outputs": [
    {
     "name": "stdout",
     "output_type": "stream",
     "text": [
      "Enter first name and last nameshadab gada\n",
      "gada  shadab\n"
     ]
    }
   ],
   "source": [
    "#3\n",
    "fname,lname = input(\"Enter first name and last name\").split()\n",
    "print(lname,\"\",fname)\n"
   ]
  },
  {
   "cell_type": "code",
   "execution_count": 4,
   "metadata": {
    "scrolled": true
   },
   "outputs": [
    {
     "name": "stdout",
     "output_type": "stream",
     "text": [
      "7239.167999999999\n"
     ]
    }
   ],
   "source": [
    "#4\n",
    "#Formula: V=4/3 * π * r^3\n",
    "r=12\n",
    "pi=3.142\n",
    "v = (4/3)*pi*r*r*r\n",
    "print(v)"
   ]
  },
  {
   "cell_type": "code",
   "execution_count": 6,
   "metadata": {},
   "outputs": [
    {
     "name": "stdout",
     "output_type": "stream",
     "text": [
      "Enter comma separated numbers: 2,4,3,5,8,1\n",
      "['2', '4', '3', '5', '8', '1']\n"
     ]
    }
   ],
   "source": [
    "#Task2\n",
    "#1\n",
    "str=input(\"Enter comma separated numbers: \")\n",
    "list1=str.split(',')\n",
    "print(list1)\n"
   ]
  },
  {
   "cell_type": "code",
   "execution_count": 21,
   "metadata": {},
   "outputs": [
    {
     "name": "stdout",
     "output_type": "stream",
     "text": [
      "\n",
      "\n",
      "*\n",
      "\n",
      "**\n",
      "\n",
      "***\n",
      "\n",
      "****\n",
      "\n",
      "*****\n",
      "\n",
      "****\n",
      "\n",
      "***\n",
      "\n",
      "**\n",
      "\n",
      "*\n",
      "\n"
     ]
    }
   ],
   "source": [
    "#2\n",
    "n=5\n",
    "for i in range(n):\n",
    "    for j in range(i):\n",
    "        print(\"*\",end=\"\")\n",
    "    print(\"\\n\")\n",
    "for i in range(n):\n",
    "    for j in range(n-i):\n",
    "        print(\"*\",end=\"\")\n",
    "    print(\"\\n\")\n",
    "\n",
    "\n",
    "    "
   ]
  },
  {
   "cell_type": "code",
   "execution_count": 37,
   "metadata": {},
   "outputs": [
    {
     "name": "stdout",
     "output_type": "stream",
     "text": [
      "Enter string: asdfg\n",
      "gfdsa\n"
     ]
    }
   ],
   "source": [
    "#3\n",
    "\n",
    "str1=input(\"Enter string: \")\n",
    "rev=\"\"\n",
    "for i in str1:\n",
    "    rev = i + rev\n",
    "print(rev)"
   ]
  },
  {
   "cell_type": "code",
   "execution_count": 53,
   "metadata": {},
   "outputs": [
    {
     "name": "stdout",
     "output_type": "stream",
     "text": [
      "WE, THE PEOPLE OF INDIA, \n",
      "having solemnly resolved to constitute India into a\n",
      "SOVEREIGN, SOCIALIST, SECULAR, DEMOCRATIC REPUBLIC \n",
      "and to secure to all\n",
      "its citizens\n",
      " "
     ]
    }
   ],
   "source": [
    "#4\n",
    "str2 = \"\"\"WE, THE PEOPLE OF INDIA, having solemnly resolved to constitute India into a\n",
    "SOVEREIGN, SOCIALIST, SECULAR, DEMOCRATIC REPUBLIC and to secure to all\n",
    "its citizens\n",
    "\"\"\"\n",
    "str1=str2.split(\" \")\n",
    "flag1=False\n",
    "for i in str1:\n",
    "    if(i.isupper()):\n",
    "        flag1=True\n",
    "    if(i.islower()):\n",
    "        if(flag1==True):\n",
    "            flag1=False\n",
    "            print(\"\",end=\"\\n\")\n",
    "            print(i,end=\" \")\n",
    "        else:\n",
    "            print(i,end=\" \")\n",
    "    else:\n",
    "        print(i,end=\" \")"
   ]
  },
  {
   "cell_type": "code",
   "execution_count": null,
   "metadata": {},
   "outputs": [],
   "source": [
    "\n"
   ]
  }
 ],
 "metadata": {
  "kernelspec": {
   "display_name": "Python 3",
   "language": "python",
   "name": "python3"
  }
 },
 "nbformat": 4,
 "nbformat_minor": 2
}
